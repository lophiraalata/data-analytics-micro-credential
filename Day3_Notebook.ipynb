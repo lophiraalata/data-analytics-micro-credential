{
  "nbformat": 4,
  "nbformat_minor": 0,
  "metadata": {
    "colab": {
      "name": "Day3_Notebook.ipynb",
      "provenance": [],
      "collapsed_sections": [],
      "toc_visible": true,
      "authorship_tag": "ABX9TyNj06Pgx+50uYEEOwKDwTBJ",
      "include_colab_link": true
    },
    "kernelspec": {
      "name": "python3",
      "display_name": "Python 3"
    },
    "language_info": {
      "name": "python"
    }
  },
  "cells": [
    {
      "cell_type": "markdown",
      "metadata": {
        "id": "view-in-github",
        "colab_type": "text"
      },
      "source": [
        "<a href=\"https://colab.research.google.com/github/lophiraalata/data-analytics-micro-credential/blob/main/Day3_Notebook.ipynb\" target=\"_parent\"><img src=\"https://colab.research.google.com/assets/colab-badge.svg\" alt=\"Open In Colab\"/></a>"
      ]
    },
    {
      "cell_type": "markdown",
      "source": [
        "## Conditionals\n",
        "\n",
        "  IF... ELIF... ELSE Statements"
      ],
      "metadata": {
        "id": "xZqGQai2HIiP"
      }
    },
    {
      "cell_type": "markdown",
      "source": [
        "\"\"\" \n",
        "if the conditon is true, then the program will do something \n",
        "\n",
        "if(condition)\n",
        "  do something \n",
        "  \"\"\"\""
      ],
      "metadata": {
        "id": "cyO0htdzI9oO"
      }
    },
    {
      "cell_type": "code",
      "source": [
        "\"\"\"\n",
        "if the condition is true, then the program will do something\n",
        "\n",
        "if(condition)\n",
        "  do something\n",
        "  \"\"\""
      ],
      "metadata": {
        "colab": {
          "base_uri": "https://localhost:8080/",
          "height": 53
        },
        "id": "wjSXiK-sPgR_",
        "outputId": "73d1f19b-e00e-417b-be72-897128189c9c"
      },
      "execution_count": 28,
      "outputs": [
        {
          "output_type": "execute_result",
          "data": {
            "text/plain": [
              "'\\nif the condition is true, then the program will do something\\n\\nif(condition)\\n  do something\\n  '"
            ],
            "application/vnd.google.colaboratory.intrinsic+json": {
              "type": "string"
            }
          },
          "metadata": {},
          "execution_count": 28
        }
      ]
    },
    {
      "cell_type": "code",
      "source": [
        "if 3 > 2:\n",
        "  print(\"right\")"
      ],
      "metadata": {
        "colab": {
          "base_uri": "https://localhost:8080/"
        },
        "id": "uOBRhYWCI9i5",
        "outputId": "264bfddf-ffa6-4d71-c3e6-f78222e710af"
      },
      "execution_count": 1,
      "outputs": [
        {
          "output_type": "stream",
          "name": "stdout",
          "text": [
            "right\n"
          ]
        }
      ]
    },
    {
      "cell_type": "code",
      "source": [
        "if 4 > 7:\n",
        "  print(\"right\")\n",
        "else:\n",
        "  print(\"left\")"
      ],
      "metadata": {
        "colab": {
          "base_uri": "https://localhost:8080/"
        },
        "id": "fzyy7XhQI9eI",
        "outputId": "039f1ea3-1bde-477d-e3a4-e7256c61fcc8"
      },
      "execution_count": 4,
      "outputs": [
        {
          "output_type": "stream",
          "name": "stdout",
          "text": [
            "left\n"
          ]
        }
      ]
    },
    {
      "cell_type": "code",
      "source": [
        ""
      ],
      "metadata": {
        "id": "xIMuTgyAI9bO"
      },
      "execution_count": null,
      "outputs": []
    },
    {
      "cell_type": "code",
      "source": [
        "drink = \"tea\"\n",
        "\n",
        "if drink == \"coffee\":\n",
        "  print(\"Coffee is the fuel of programmers!\")\n",
        "elif drink == \"tea\":\n",
        "  print(\"Tea helps programmers write better code!\")\n"
      ],
      "metadata": {
        "colab": {
          "base_uri": "https://localhost:8080/"
        },
        "id": "LG5NQO4RIruT",
        "outputId": "1627c497-eaf1-4288-920a-d286293a7786"
      },
      "execution_count": 7,
      "outputs": [
        {
          "output_type": "stream",
          "name": "stdout",
          "text": [
            "Tea helps programmers write better code!\n"
          ]
        }
      ]
    },
    {
      "cell_type": "code",
      "source": [
        "drink = \"coke\"\n",
        "\n",
        "if drink == \"coke\":\n",
        "  print()"
      ],
      "metadata": {
        "id": "H5fjWwb0Irrk"
      },
      "execution_count": null,
      "outputs": []
    },
    {
      "cell_type": "markdown",
      "source": [
        "## Loops\n",
        "\n",
        "### For Loops"
      ],
      "metadata": {
        "id": "xCZr-gxpIrpK"
      }
    },
    {
      "cell_type": "code",
      "source": [
        "my_list = [1, 2, 3, 4, 5, 6]"
      ],
      "metadata": {
        "id": "Hu4jIi91NnWy"
      },
      "execution_count": null,
      "outputs": []
    },
    {
      "cell_type": "code",
      "source": [
        "for num in my_list:\n",
        "  if num % 2 != 0:\n",
        "    print(num)"
      ],
      "metadata": {
        "colab": {
          "base_uri": "https://localhost:8080/"
        },
        "id": "wqP7A09PN3nM",
        "outputId": "05846cf8-2abc-4cb6-d2ad-3fc89055bee4"
      },
      "execution_count": 12,
      "outputs": [
        {
          "output_type": "stream",
          "name": "stdout",
          "text": [
            "1\n",
            "3\n",
            "5\n"
          ]
        }
      ]
    },
    {
      "cell_type": "code",
      "source": [
        "my_list = [1, 2, 3, 4, 5, 6]\n",
        "list_sum = 0\n",
        "\n",
        "for num in my_list:\n",
        "  list_sum = list_sum + num\n",
        "  print(list_sum)"
      ],
      "metadata": {
        "colab": {
          "base_uri": "https://localhost:8080/"
        },
        "id": "3D-7wUFILddp",
        "outputId": "7d7af419-258f-4ec8-bf8b-c786ed05a387"
      },
      "execution_count": 11,
      "outputs": [
        {
          "output_type": "stream",
          "name": "stdout",
          "text": [
            "1\n",
            "3\n",
            "6\n",
            "10\n",
            "15\n",
            "21\n"
          ]
        }
      ]
    },
    {
      "cell_type": "code",
      "source": [
        "my_string = \"hello world\""
      ],
      "metadata": {
        "id": "ia8GAOKANsxt"
      },
      "execution_count": 13,
      "outputs": []
    },
    {
      "cell_type": "code",
      "source": [
        "for x in my_string:\n",
        "  print(x)"
      ],
      "metadata": {
        "colab": {
          "base_uri": "https://localhost:8080/"
        },
        "id": "7C-Ot-xbOLhu",
        "outputId": "c65cbb35-fb7c-4b49-c42a-27f122b4bd64"
      },
      "execution_count": 14,
      "outputs": [
        {
          "output_type": "stream",
          "name": "stdout",
          "text": [
            "h\n",
            "e\n",
            "l\n",
            "l\n",
            "o\n",
            " \n",
            "w\n",
            "o\n",
            "r\n",
            "l\n",
            "d\n"
          ]
        }
      ]
    },
    {
      "cell_type": "code",
      "source": [
        "my_list = [(1,2), (3,4), (5,6), (7,8)]\n",
        "len(my_list)"
      ],
      "metadata": {
        "colab": {
          "base_uri": "https://localhost:8080/"
        },
        "id": "xoMqG5zuOOHx",
        "outputId": "7ec8c2fa-cf7a-4218-f048-3ecfebf8d47e"
      },
      "execution_count": 15,
      "outputs": [
        {
          "output_type": "execute_result",
          "data": {
            "text/plain": [
              "4"
            ]
          },
          "metadata": {},
          "execution_count": 15
        }
      ]
    },
    {
      "cell_type": "code",
      "source": [
        "for tup in my_list:\n",
        "  print(tup)"
      ],
      "metadata": {
        "colab": {
          "base_uri": "https://localhost:8080/"
        },
        "id": "9pbBG_L_OYn_",
        "outputId": "401af3a0-ff6b-498e-9ebc-f378ac59c5e7"
      },
      "execution_count": 17,
      "outputs": [
        {
          "output_type": "stream",
          "name": "stdout",
          "text": [
            "(1, 2)\n",
            "(3, 4)\n",
            "(5, 6)\n",
            "(7, 8)\n"
          ]
        }
      ]
    },
    {
      "cell_type": "code",
      "source": [
        "for a,b in my_list:\n",
        "  print(a,b)"
      ],
      "metadata": {
        "colab": {
          "base_uri": "https://localhost:8080/"
        },
        "id": "ZMZtg_FROcNg",
        "outputId": "127ea529-80c6-47e4-9c06-0ea24b41a202"
      },
      "execution_count": 18,
      "outputs": [
        {
          "output_type": "stream",
          "name": "stdout",
          "text": [
            "1 2\n",
            "3 4\n",
            "5 6\n",
            "7 8\n"
          ]
        }
      ]
    },
    {
      "cell_type": "code",
      "source": [
        "for a,b in my_list:\n",
        "  print(a)"
      ],
      "metadata": {
        "colab": {
          "base_uri": "https://localhost:8080/"
        },
        "id": "hvVdUO8rOg30",
        "outputId": "5e712b7c-ac08-426f-e69e-5008039c3218"
      },
      "execution_count": 19,
      "outputs": [
        {
          "output_type": "stream",
          "name": "stdout",
          "text": [
            "1\n",
            "3\n",
            "5\n",
            "7\n"
          ]
        }
      ]
    },
    {
      "cell_type": "code",
      "source": [
        "my_list = [(1,2,3), (4,5,6), (7,8,9)]"
      ],
      "metadata": {
        "id": "W3DMJRN_OlKS"
      },
      "execution_count": 20,
      "outputs": []
    },
    {
      "cell_type": "code",
      "source": [
        "for a,b,c in my_list:\n",
        "  print(b,c)"
      ],
      "metadata": {
        "colab": {
          "base_uri": "https://localhost:8080/"
        },
        "id": "W9bcSfZ4Oubq",
        "outputId": "6f33dd36-3b72-4402-a0bf-abfaaa108f6f"
      },
      "execution_count": 21,
      "outputs": [
        {
          "output_type": "stream",
          "name": "stdout",
          "text": [
            "2 3\n",
            "5 6\n",
            "8 9\n"
          ]
        }
      ]
    },
    {
      "cell_type": "code",
      "source": [
        "my_dict = {\"k1\":1, \"k2\":2, \"k3\":3}"
      ],
      "metadata": {
        "id": "2gSd26imOxPT"
      },
      "execution_count": 22,
      "outputs": []
    },
    {
      "cell_type": "code",
      "source": [
        "for i in my_dict:\n",
        "  print(i)"
      ],
      "metadata": {
        "colab": {
          "base_uri": "https://localhost:8080/"
        },
        "id": "f56evh9-O61z",
        "outputId": "804dcedd-0160-400f-da6e-5ca2ed0aa6ac"
      },
      "execution_count": 23,
      "outputs": [
        {
          "output_type": "stream",
          "name": "stdout",
          "text": [
            "k1\n",
            "k2\n",
            "k3\n"
          ]
        }
      ]
    },
    {
      "cell_type": "code",
      "source": [
        "my_dict.items()"
      ],
      "metadata": {
        "colab": {
          "base_uri": "https://localhost:8080/"
        },
        "id": "kdo4Qeu_O9AO",
        "outputId": "02a504dd-ab85-43c9-b320-7aa4b8f3229d"
      },
      "execution_count": 24,
      "outputs": [
        {
          "output_type": "execute_result",
          "data": {
            "text/plain": [
              "dict_items([('k1', 1), ('k2', 2), ('k3', 3)])"
            ]
          },
          "metadata": {},
          "execution_count": 24
        }
      ]
    },
    {
      "cell_type": "code",
      "source": [
        "for i in my_dict.items():\n",
        "  print(i)"
      ],
      "metadata": {
        "colab": {
          "base_uri": "https://localhost:8080/"
        },
        "id": "9zsbYiwcO_EZ",
        "outputId": "8b9a2ca9-e2b1-442a-9883-40d7d61d5116"
      },
      "execution_count": 25,
      "outputs": [
        {
          "output_type": "stream",
          "name": "stdout",
          "text": [
            "('k1', 1)\n",
            "('k2', 2)\n",
            "('k3', 3)\n"
          ]
        }
      ]
    },
    {
      "cell_type": "code",
      "source": [
        "for a,b in my_dict.items():\n",
        "  print(b)"
      ],
      "metadata": {
        "colab": {
          "base_uri": "https://localhost:8080/"
        },
        "id": "b0fCgB3OPCs1",
        "outputId": "e50ec4a6-736a-45dc-faf0-16f0c51ee7a3"
      },
      "execution_count": 26,
      "outputs": [
        {
          "output_type": "stream",
          "name": "stdout",
          "text": [
            "1\n",
            "2\n",
            "3\n"
          ]
        }
      ]
    },
    {
      "cell_type": "code",
      "source": [
        "# how to define a for loop\n",
        "# for loop  with,\n",
        "# list\n",
        "# string\n",
        "# tuple\n",
        "# dictionary"
      ],
      "metadata": {
        "id": "cpmnUBNTPGhI"
      },
      "execution_count": 27,
      "outputs": []
    },
    {
      "cell_type": "markdown",
      "source": [
        "### While Loops"
      ],
      "metadata": {
        "id": "oWKj2wZrPeDU"
      }
    },
    {
      "cell_type": "code",
      "source": [
        "i = 0\n",
        "\n",
        "while i < 5:\n",
        "  print(i)\n",
        "  i = i + 1"
      ],
      "metadata": {
        "colab": {
          "base_uri": "https://localhost:8080/"
        },
        "id": "aJcIuqUwSLu0",
        "outputId": "dd29ad36-c9f8-4aaf-8105-41fb0740e3ea"
      },
      "execution_count": 32,
      "outputs": [
        {
          "output_type": "stream",
          "name": "stdout",
          "text": [
            "0\n",
            "1\n",
            "2\n",
            "3\n",
            "4\n"
          ]
        }
      ]
    },
    {
      "cell_type": "code",
      "source": [
        "i = 0\n",
        "\n",
        "while i < 5:\n",
        "  print(i)\n",
        "  i = i + 1\n",
        "else:\n",
        "  print(\"i is not less than 5\")"
      ],
      "metadata": {
        "colab": {
          "base_uri": "https://localhost:8080/"
        },
        "id": "Au4dFU5zSqd2",
        "outputId": "de327d7d-b2ca-4301-ad66-350719b6d23e"
      },
      "execution_count": 33,
      "outputs": [
        {
          "output_type": "stream",
          "name": "stdout",
          "text": [
            "0\n",
            "1\n",
            "2\n",
            "3\n",
            "4\n",
            "i is not less than 5\n"
          ]
        }
      ]
    },
    {
      "cell_type": "code",
      "source": [
        "i = 10\n",
        "\n",
        "while i < 5:\n",
        "  print(i)"
      ],
      "metadata": {
        "id": "O0_gJk2YS4Op"
      },
      "execution_count": null,
      "outputs": []
    },
    {
      "cell_type": "code",
      "source": [
        "\"\"\"\n",
        "# as long as i is less than 5, print i\n",
        "the momen\n",
        "\"\"\""
      ],
      "metadata": {
        "id": "MM815NecSZ-n"
      },
      "execution_count": null,
      "outputs": []
    },
    {
      "cell_type": "code",
      "source": [
        ""
      ],
      "metadata": {
        "id": "G2_snPMnTRLT"
      },
      "execution_count": null,
      "outputs": []
    },
    {
      "cell_type": "markdown",
      "source": [
        "## Pass, Break and Continue"
      ],
      "metadata": {
        "id": "1160TWjuTBSg"
      }
    },
    {
      "cell_type": "code",
      "source": [
        "i = [1, 2, 3, 4, 5]\n",
        "\n",
        "for items in i:\n",
        "  # comment\n",
        "  pass\n",
        "print(\"I will work after\")"
      ],
      "metadata": {
        "colab": {
          "base_uri": "https://localhost:8080/"
        },
        "id": "XRU9R9qPTQTk",
        "outputId": "1f0581ab-2963-4fbf-8697-7ff171f2b613"
      },
      "execution_count": 39,
      "outputs": [
        {
          "output_type": "stream",
          "name": "stdout",
          "text": [
            "I will work after\n"
          ]
        }
      ]
    },
    {
      "cell_type": "code",
      "source": [
        "my_string = \"hello world\"\n",
        "\n",
        "for letters in my_string:\n",
        "  if letters == \"e\":\n",
        "    continue\n",
        "  print(letters)"
      ],
      "metadata": {
        "colab": {
          "base_uri": "https://localhost:8080/"
        },
        "id": "lhZE3UNPTgTt",
        "outputId": "5721c468-7967-42cf-f318-103cde9c179b"
      },
      "execution_count": 37,
      "outputs": [
        {
          "output_type": "stream",
          "name": "stdout",
          "text": [
            "h\n",
            "l\n",
            "l\n",
            "o\n",
            " \n",
            "w\n",
            "o\n",
            "r\n",
            "l\n",
            "d\n"
          ]
        }
      ]
    },
    {
      "cell_type": "code",
      "source": [
        "i = 0\n",
        "while i < 5:\n",
        "  if i == 3:\n",
        "    break \n",
        "  print(i)\n",
        "  i = i + 1"
      ],
      "metadata": {
        "colab": {
          "base_uri": "https://localhost:8080/"
        },
        "id": "1gYO2Z8HT5zq",
        "outputId": "a694294f-005a-48ff-b651-7d25ef21fb4d"
      },
      "execution_count": 38,
      "outputs": [
        {
          "output_type": "stream",
          "name": "stdout",
          "text": [
            "0\n",
            "1\n",
            "2\n"
          ]
        }
      ]
    },
    {
      "cell_type": "markdown",
      "source": [
        "## Most used Built-in functions in Python"
      ],
      "metadata": {
        "id": "pqLY9BxUUMEd"
      }
    },
    {
      "cell_type": "markdown",
      "source": [
        "### 1) Range function"
      ],
      "metadata": {
        "id": "bXjSY1gwU2vp"
      }
    },
    {
      "cell_type": "code",
      "source": [
        "for num in range(10):\n",
        "  print(num)"
      ],
      "metadata": {
        "colab": {
          "base_uri": "https://localhost:8080/"
        },
        "id": "9Az-ovH5U42u",
        "outputId": "c5affbcc-ff92-4abd-9ea8-f942409126ae"
      },
      "execution_count": 41,
      "outputs": [
        {
          "output_type": "stream",
          "name": "stdout",
          "text": [
            "0\n",
            "1\n",
            "2\n",
            "3\n",
            "4\n",
            "5\n",
            "6\n",
            "7\n",
            "8\n",
            "9\n"
          ]
        }
      ]
    },
    {
      "cell_type": "code",
      "source": [
        "for num in range(3, 10):\n",
        "  print(num)"
      ],
      "metadata": {
        "colab": {
          "base_uri": "https://localhost:8080/"
        },
        "id": "TU-TY2t2U9I6",
        "outputId": "c5c6aa06-e3d0-428b-dad7-26a0534eb704"
      },
      "execution_count": 42,
      "outputs": [
        {
          "output_type": "stream",
          "name": "stdout",
          "text": [
            "3\n",
            "4\n",
            "5\n",
            "6\n",
            "7\n",
            "8\n",
            "9\n"
          ]
        }
      ]
    },
    {
      "cell_type": "code",
      "source": [
        "for num in range(0, 11, 2):\n",
        "  print(num)"
      ],
      "metadata": {
        "colab": {
          "base_uri": "https://localhost:8080/"
        },
        "id": "fdShIzrqVIJ-",
        "outputId": "a31f0157-56ec-4b10-f4e6-413278556cae"
      },
      "execution_count": 43,
      "outputs": [
        {
          "output_type": "stream",
          "name": "stdout",
          "text": [
            "0\n",
            "2\n",
            "4\n",
            "6\n",
            "8\n",
            "10\n"
          ]
        }
      ]
    },
    {
      "cell_type": "code",
      "source": [
        "my_list = [1,2,4,5,6,7,8,9,10]\n",
        "range(10)\n",
        "list(range(10))\n",
        "list(range(1,11))"
      ],
      "metadata": {
        "colab": {
          "base_uri": "https://localhost:8080/"
        },
        "id": "iGx0tNFnVNGT",
        "outputId": "bfeb634e-cca0-445c-bce5-ad34d08eac70"
      },
      "execution_count": 45,
      "outputs": [
        {
          "output_type": "execute_result",
          "data": {
            "text/plain": [
              "[1, 2, 3, 4, 5, 6, 7, 8, 9, 10]"
            ]
          },
          "metadata": {},
          "execution_count": 45
        }
      ]
    },
    {
      "cell_type": "markdown",
      "source": [
        "### 2) Enumerate\n",
        "\n",
        "*it gives back us an index count and object itself*"
      ],
      "metadata": {
        "id": "6oqKucYHVawu"
      }
    },
    {
      "cell_type": "code",
      "source": [
        ""
      ],
      "metadata": {
        "id": "oCKA7Mt_V5Bn"
      },
      "execution_count": null,
      "outputs": []
    },
    {
      "cell_type": "code",
      "source": [
        ""
      ],
      "metadata": {
        "id": "1mlXzwnQV4y1"
      },
      "execution_count": null,
      "outputs": []
    },
    {
      "cell_type": "code",
      "source": [
        "for items in enumerate(word):\n",
        "  print(items)"
      ],
      "metadata": {
        "id": "7BYX9e-pVj9n"
      },
      "execution_count": null,
      "outputs": []
    },
    {
      "cell_type": "code",
      "source": [
        "for a,b in enumerate(word):\n",
        "  print(a)\n",
        "  print(b)\n",
        "  print(\"\\n\")"
      ],
      "metadata": {
        "id": "UwSnkI7kV6Rm"
      },
      "execution_count": null,
      "outputs": []
    },
    {
      "cell_type": "markdown",
      "source": [
        "### 3) Zip"
      ],
      "metadata": {
        "id": "xPUksTePWQet"
      }
    },
    {
      "cell_type": "code",
      "source": [
        "list1 = [1,2,3,4,5]\n",
        "list2 = [\"a\", \"b\", \"c\", \"d\", \"e\"]\n",
        "list3 = [\"a\", \"b\", \"c\"]"
      ],
      "metadata": {
        "id": "XoqnbnzzWT0b"
      },
      "execution_count": 46,
      "outputs": []
    },
    {
      "cell_type": "code",
      "source": [
        "list4 = zip(list1, list2)"
      ],
      "metadata": {
        "id": "qO9-iVX2Wg1x"
      },
      "execution_count": 47,
      "outputs": []
    },
    {
      "cell_type": "code",
      "source": [
        "print(list4)"
      ],
      "metadata": {
        "colab": {
          "base_uri": "https://localhost:8080/"
        },
        "id": "PzMlptaDWkiW",
        "outputId": "2a4056a2-5e8e-4fc1-d2d0-b51f035a1401"
      },
      "execution_count": 48,
      "outputs": [
        {
          "output_type": "stream",
          "name": "stdout",
          "text": [
            "<zip object at 0x7f58974ebcd0>\n"
          ]
        }
      ]
    },
    {
      "cell_type": "code",
      "source": [
        "for items in zip(list1, list2):\n",
        "  print(items)"
      ],
      "metadata": {
        "colab": {
          "base_uri": "https://localhost:8080/"
        },
        "id": "ldseaYdpWmYd",
        "outputId": "218e2d1d-3a37-4858-8a78-1be967585ac5"
      },
      "execution_count": 49,
      "outputs": [
        {
          "output_type": "stream",
          "name": "stdout",
          "text": [
            "(1, 'a')\n",
            "(2, 'b')\n",
            "(3, 'c')\n",
            "(4, 'd')\n",
            "(5, 'e')\n"
          ]
        }
      ]
    },
    {
      "cell_type": "code",
      "source": [
        "for a,b in zip(list1, list2):\n",
        "  print(items)"
      ],
      "metadata": {
        "colab": {
          "base_uri": "https://localhost:8080/"
        },
        "id": "IkhTuaQYWq7u",
        "outputId": "8cdbe3e1-b0be-413d-f5b0-71250e5362bb"
      },
      "execution_count": 50,
      "outputs": [
        {
          "output_type": "stream",
          "name": "stdout",
          "text": [
            "(5, 'e')\n",
            "(5, 'e')\n",
            "(5, 'e')\n",
            "(5, 'e')\n",
            "(5, 'e')\n"
          ]
        }
      ]
    },
    {
      "cell_type": "code",
      "source": [
        "for a,b in zip(list1, list2):\n",
        "  print(a,b)"
      ],
      "metadata": {
        "colab": {
          "base_uri": "https://localhost:8080/"
        },
        "id": "vy25XimWWvWe",
        "outputId": "5e37baa0-54f9-440a-976d-6c45817c2541"
      },
      "execution_count": 51,
      "outputs": [
        {
          "output_type": "stream",
          "name": "stdout",
          "text": [
            "1 a\n",
            "2 b\n",
            "3 c\n",
            "4 d\n",
            "5 e\n"
          ]
        }
      ]
    },
    {
      "cell_type": "code",
      "source": [
        "for items in zip(list1, list2, list3):\n",
        "  print(items)"
      ],
      "metadata": {
        "colab": {
          "base_uri": "https://localhost:8080/"
        },
        "id": "CnZ30_J7W0Az",
        "outputId": "b5a816d3-c11f-417a-a89d-e58cdb12f6f7"
      },
      "execution_count": 52,
      "outputs": [
        {
          "output_type": "stream",
          "name": "stdout",
          "text": [
            "(1, 'a', 'a')\n",
            "(2, 'b', 'b')\n",
            "(3, 'c', 'c')\n"
          ]
        }
      ]
    },
    {
      "cell_type": "code",
      "source": [
        "for a,b,b in zip(list1, list2, list3):\n",
        "  print(b)"
      ],
      "metadata": {
        "colab": {
          "base_uri": "https://localhost:8080/"
        },
        "id": "nAGpRs4AW6C_",
        "outputId": "5fa91339-6b17-4a9a-9136-e10845c12364"
      },
      "execution_count": 53,
      "outputs": [
        {
          "output_type": "stream",
          "name": "stdout",
          "text": [
            "a\n",
            "b\n",
            "c\n"
          ]
        }
      ]
    },
    {
      "cell_type": "code",
      "source": [
        ""
      ],
      "metadata": {
        "id": "GB8xUEpfXAkg"
      },
      "execution_count": null,
      "outputs": []
    }
  ]
}