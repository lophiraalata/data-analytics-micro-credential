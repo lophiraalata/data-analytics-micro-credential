{
  "nbformat": 4,
  "nbformat_minor": 0,
  "metadata": {
    "colab": {
      "name": "TestNotebook_2.ipynb",
      "provenance": [],
      "authorship_tag": "ABX9TyP/Eyxu0fEraSQhPkgsS3Y8",
      "include_colab_link": true
    },
    "kernelspec": {
      "name": "python3",
      "display_name": "Python 3"
    },
    "language_info": {
      "name": "python"
    }
  },
  "cells": [
    {
      "cell_type": "markdown",
      "metadata": {
        "id": "view-in-github",
        "colab_type": "text"
      },
      "source": [
        "<a href=\"https://colab.research.google.com/github/lophiraalata/data-analytics-micro-credential/blob/main/TestNotebook_2.ipynb\" target=\"_parent\"><img src=\"https://colab.research.google.com/assets/colab-badge.svg\" alt=\"Open In Colab\"/></a>"
      ]
    },
    {
      "cell_type": "markdown",
      "source": [
        "# Intro to Python Part II\n",
        "\n",
        "## Data Stuctures"
      ],
      "metadata": {
        "id": "HcDrEtff-oFn"
      }
    },
    {
      "cell_type": "markdown",
      "source": [
        "## Lists"
      ],
      "metadata": {
        "id": "QAWz0LAX-y6-"
      }
    },
    {
      "cell_type": "code",
      "source": [
        "my_list = [\"hello\", 100, 23.47]"
      ],
      "metadata": {
        "id": "hrpTC18h-4qj"
      },
      "execution_count": 1,
      "outputs": []
    },
    {
      "cell_type": "code",
      "source": [
        "my_list"
      ],
      "metadata": {
        "colab": {
          "base_uri": "https://localhost:8080/"
        },
        "id": "A7SaUuVD-4Tf",
        "outputId": "e0a95ed5-4afb-434e-e134-95877894f7dc"
      },
      "execution_count": 2,
      "outputs": [
        {
          "output_type": "execute_result",
          "data": {
            "text/plain": [
              "['hello', 100, 23.47]"
            ]
          },
          "metadata": {},
          "execution_count": 2
        }
      ]
    },
    {
      "cell_type": "code",
      "source": [
        "print(my_list)"
      ],
      "metadata": {
        "colab": {
          "base_uri": "https://localhost:8080/"
        },
        "id": "dOORwGxP-4KS",
        "outputId": "d263fd5e-abd5-45af-fb2a-52475981502e"
      },
      "execution_count": 3,
      "outputs": [
        {
          "output_type": "stream",
          "name": "stdout",
          "text": [
            "['hello', 100, 23.47]\n"
          ]
        }
      ]
    },
    {
      "cell_type": "code",
      "source": [
        "type(my_list)"
      ],
      "metadata": {
        "colab": {
          "base_uri": "https://localhost:8080/"
        },
        "id": "MzQiPcId-3_N",
        "outputId": "4ed19e89-127c-4da5-a1e4-5f9ede31820a"
      },
      "execution_count": 4,
      "outputs": [
        {
          "output_type": "execute_result",
          "data": {
            "text/plain": [
              "list"
            ]
          },
          "metadata": {},
          "execution_count": 4
        }
      ]
    },
    {
      "cell_type": "code",
      "source": [
        "second_list = ['one', 'two', 'three']"
      ],
      "metadata": {
        "id": "t26K98tT_-1d"
      },
      "execution_count": 5,
      "outputs": []
    },
    {
      "cell_type": "code",
      "source": [
        "print(my_list, second_list)"
      ],
      "metadata": {
        "colab": {
          "base_uri": "https://localhost:8080/"
        },
        "id": "Qad52_j9AK1n",
        "outputId": "10f151e7-c9fe-4eeb-e7eb-aa9946f83fc9"
      },
      "execution_count": 6,
      "outputs": [
        {
          "output_type": "stream",
          "name": "stdout",
          "text": [
            "['hello', 100, 23.47] ['one', 'two', 'three']\n"
          ]
        }
      ]
    },
    {
      "cell_type": "code",
      "source": [
        ""
      ],
      "metadata": {
        "id": "VjsEDUB6APud"
      },
      "execution_count": null,
      "outputs": []
    }
  ]
}