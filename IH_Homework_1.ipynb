{
  "nbformat": 4,
  "nbformat_minor": 0,
  "metadata": {
    "colab": {
      "name": "IH_Homework 1.ipynb",
      "provenance": [],
      "collapsed_sections": [],
      "include_colab_link": true
    },
    "kernelspec": {
      "name": "python3",
      "display_name": "Python 3"
    },
    "language_info": {
      "name": "python"
    }
  },
  "cells": [
    {
      "cell_type": "markdown",
      "metadata": {
        "id": "view-in-github",
        "colab_type": "text"
      },
      "source": [
        "<a href=\"https://colab.research.google.com/github/lophiraalata/data-analytics-micro-credential/blob/main/IH_Homework_1.ipynb\" target=\"_parent\"><img src=\"https://colab.research.google.com/assets/colab-badge.svg\" alt=\"Open In Colab\"/></a>"
      ]
    },
    {
      "cell_type": "markdown",
      "source": [
        "# Answer all the questions!"
      ],
      "metadata": {
        "id": "FkJsXd8D06Rp"
      }
    },
    {
      "cell_type": "markdown",
      "source": [
        "##Write a Python program to get the volume of a sphere with radius 6"
      ],
      "metadata": {
        "id": "elOgKZR009ex"
      }
    },
    {
      "cell_type": "code",
      "source": [
        "n = int(input(\"Enter radius: \"))\n",
        "print((4/3) * 3.14159 * n ** 3)\n",
        "\n",
        "# calculates and prints the volume of a sphere using a given radius\n",
        "# input: int\n",
        "# output: float"
      ],
      "metadata": {
        "colab": {
          "base_uri": "https://localhost:8080/"
        },
        "id": "BGMi2JFFjXkH",
        "outputId": "aee96740-f232-4945-eecd-153e12e3570e"
      },
      "execution_count": 18,
      "outputs": [
        {
          "output_type": "stream",
          "name": "stdout",
          "text": [
            "Enter radius: 6\n",
            "904.7779199999999\n"
          ]
        }
      ]
    },
    {
      "cell_type": "markdown",
      "source": [
        "##Write a Python program to find whether a given number (accept from the user) is even or odd"
      ],
      "metadata": {
        "id": "OuX7aazu09X1"
      }
    },
    {
      "cell_type": "code",
      "source": [
        "num = int(input(\"Enter a number: \"))\n",
        "if num % 2 != 0:\n",
        "  print(\"this number is odd\")\n",
        "else:\n",
        "  print(\"this number is even\")\n",
        "  # tells whether a given number is even (divisible by 2 with no remainder) or odd (not divisible by 2)\n",
        "  # input: int\n",
        "  # output: string"
      ],
      "metadata": {
        "id": "vcYhNNaU09Uz",
        "colab": {
          "base_uri": "https://localhost:8080/"
        },
        "outputId": "723a2e3c-b960-4d1c-ecf2-9ba9fb9e206d"
      },
      "execution_count": 47,
      "outputs": [
        {
          "output_type": "stream",
          "name": "stdout",
          "text": [
            "Enter a number: 55\n",
            "this number is odd\n"
          ]
        }
      ]
    },
    {
      "cell_type": "markdown",
      "source": [
        "##Write a Python program to count the number 4 in a given list"
      ],
      "metadata": {
        "id": "NP5TZKqO09Rr"
      }
    },
    {
      "cell_type": "code",
      "source": [
        "import pandas as pd"
      ],
      "metadata": {
        "id": "1RecpXHelxR4"
      },
      "execution_count": 12,
      "outputs": []
    },
    {
      "cell_type": "code",
      "source": [
        "list = [2, 3, 4, 5, 6, 5, 4, 3, 2, 4]\n",
        "count = pd.Series(list).value_counts()\n",
        "print(\"element  count\")\n",
        "print(count)\n",
        "\n",
        "# return a Series containing counts of unique values\n",
        "# shows the count of all numbers in the list\n",
        "# references: geeksforgeeks.org"
      ],
      "metadata": {
        "colab": {
          "base_uri": "https://localhost:8080/"
        },
        "id": "U-H33hgplxPg",
        "outputId": "8c485e3e-ddf3-4396-d0f3-31157396e8e5"
      },
      "execution_count": 14,
      "outputs": [
        {
          "output_type": "stream",
          "name": "stdout",
          "text": [
            "element  count\n",
            "4    3\n",
            "2    2\n",
            "3    2\n",
            "5    2\n",
            "6    1\n",
            "dtype: int64\n"
          ]
        }
      ]
    },
    {
      "cell_type": "code",
      "source": [
        "def list_count(my_list, x):\n",
        "  count = 0\n",
        "  for num in my_list:\n",
        "    if num == x:\n",
        "      count == count + 1\n",
        "  return count\n",
        "\n",
        "my_list = [2, 3, 4, 5, 6, 5, 4, 3, 2, 4,]\n",
        "x = 4\n",
        "print(\"{} has occured {} times\".format(x, list_count, (my_list, x)))               \n",
        "\n",
        "  # counts the number of occurences of a number in a given list"
      ],
      "metadata": {
        "id": "oWZ3vTfW09Oh",
        "colab": {
          "base_uri": "https://localhost:8080/"
        },
        "outputId": "c07042ed-3933-47ab-a49f-01218bc7b2ce"
      },
      "execution_count": 11,
      "outputs": [
        {
          "output_type": "stream",
          "name": "stdout",
          "text": [
            "4 has occured <function list_count at 0x7f3be8f00a70> times\n"
          ]
        }
      ]
    },
    {
      "cell_type": "markdown",
      "source": [
        "##Write a Python program that will accept the base and height of a triangle and compute the area"
      ],
      "metadata": {
        "id": "IK0FvUoa1MJG"
      }
    },
    {
      "cell_type": "code",
      "source": [
        "base = int(input(\"enter triangle base: \"))\n",
        "height = int(input(\"enter triangle height: \"))\n",
        "area = ((base * height) / 2)\n",
        "print(area)\n",
        "\n",
        "# accepts the base and height of a triangle as integers and computes the area"
      ],
      "metadata": {
        "id": "G02dv4rh1MFs",
        "colab": {
          "base_uri": "https://localhost:8080/"
        },
        "outputId": "f3f3baa1-7ab3-4251-98e6-8fd5256964fb"
      },
      "execution_count": 9,
      "outputs": [
        {
          "output_type": "stream",
          "name": "stdout",
          "text": [
            "enter triangle base: 5\n",
            "enter triangle height: 6\n",
            "15.0\n"
          ]
        }
      ]
    },
    {
      "cell_type": "markdown",
      "source": [
        "##Write a Python program to convert the distance (in feet) to inches, yards, and miles."
      ],
      "metadata": {
        "id": "sOkeycZk1L5-"
      }
    },
    {
      "cell_type": "code",
      "source": [
        "# accepts a distance in feet and converts to inches, yards, and miles\n",
        "\n",
        "def convert_distance(num):\n",
        "\n",
        "  inch = num * 12\n",
        "  yard = num * 3\n",
        "  mile = num / 5280\n",
        "\n",
        "\n",
        "dist = int(input(\"enter distance in feet: \"))\n",
        "  print(the distance is {} feet)\n"
      ],
      "metadata": {
        "id": "YtW-ZxqB1L2c"
      },
      "execution_count": null,
      "outputs": []
    },
    {
      "cell_type": "code",
      "source": [
        ""
      ],
      "metadata": {
        "id": "AcG7VeN_lwbt"
      },
      "execution_count": null,
      "outputs": []
    },
    {
      "cell_type": "code",
      "source": [
        ""
      ],
      "metadata": {
        "id": "6o6VbMghlwY2"
      },
      "execution_count": null,
      "outputs": []
    }
  ]
}