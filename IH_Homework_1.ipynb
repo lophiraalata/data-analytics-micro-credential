{
  "nbformat": 4,
  "nbformat_minor": 0,
  "metadata": {
    "colab": {
      "name": "IH_Homework 1.ipynb",
      "provenance": [],
      "collapsed_sections": [],
      "include_colab_link": true
    },
    "kernelspec": {
      "name": "python3",
      "display_name": "Python 3"
    },
    "language_info": {
      "name": "python"
    }
  },
  "cells": [
    {
      "cell_type": "markdown",
      "metadata": {
        "id": "view-in-github",
        "colab_type": "text"
      },
      "source": [
        "<a href=\"https://colab.research.google.com/github/lophiraalata/data-analytics-micro-credential/blob/main/IH_Homework_1.ipynb\" target=\"_parent\"><img src=\"https://colab.research.google.com/assets/colab-badge.svg\" alt=\"Open In Colab\"/></a>"
      ]
    },
    {
      "cell_type": "markdown",
      "source": [
        "# Answer all the questions!"
      ],
      "metadata": {
        "id": "FkJsXd8D06Rp"
      }
    },
    {
      "cell_type": "markdown",
      "source": [
        "##Write a Python program to get the volume of a sphere with radius 6"
      ],
      "metadata": {
        "id": "elOgKZR009ex"
      }
    },
    {
      "cell_type": "code",
      "source": [
        "n = int(input(\"Enter radius: \"))\n",
        "print((4/3) * 3.14159 * n ** 3)\n",
        "\n",
        "# calculates and prints the volume of a sphere using a given radius\n",
        "# input: int\n",
        "# output: float"
      ],
      "metadata": {
        "colab": {
          "base_uri": "https://localhost:8080/"
        },
        "id": "BGMi2JFFjXkH",
        "outputId": "43f0f962-ddda-4b5d-eea4-2a896dd72a87"
      },
      "execution_count": 4,
      "outputs": [
        {
          "output_type": "stream",
          "name": "stdout",
          "text": [
            "Enter radius: 6\n",
            "904.7779199999999\n"
          ]
        }
      ]
    },
    {
      "cell_type": "markdown",
      "source": [
        "##Write a Python program to find whether a given number (accept from the user) is even or odd"
      ],
      "metadata": {
        "id": "OuX7aazu09X1"
      }
    },
    {
      "cell_type": "code",
      "source": [
        "num = int(input(\"Enter a number: \"))\n",
        "if num % 2 != 0:\n",
        "  print(\"this number is odd\")\n",
        "else:\n",
        "  print(\"this number is even\")\n",
        "\n",
        "# tells whether a given number is even (divisible by 2 with no remainder) or odd (not divisible by 2)\n",
        "# input: int\n",
        "# output: string"
      ],
      "metadata": {
        "id": "vcYhNNaU09Uz",
        "colab": {
          "base_uri": "https://localhost:8080/"
        },
        "outputId": "54392f79-0263-4448-fe5d-87df0713a061"
      },
      "execution_count": 10,
      "outputs": [
        {
          "output_type": "stream",
          "name": "stdout",
          "text": [
            "Enter a number: 5\n",
            "this number is odd\n"
          ]
        }
      ]
    },
    {
      "cell_type": "markdown",
      "source": [
        "##Write a Python program to count the number 4 in a given list"
      ],
      "metadata": {
        "id": "NP5TZKqO09Rr"
      }
    },
    {
      "cell_type": "code",
      "source": [
        "import pandas as pd"
      ],
      "metadata": {
        "id": "1RecpXHelxR4"
      },
      "execution_count": 7,
      "outputs": []
    },
    {
      "cell_type": "code",
      "source": [
        "list = [2, 3, 4, 5, 6, 5, 4, 3, 2, 4]\n",
        "count = pd.Series(list).value_counts()\n",
        "print(\"element  count\")\n",
        "print(count)\n",
        "\n",
        "# prints a Series containing counts of unique values in a given list\n",
        "# shows the count of all numbers in the list\n",
        "# references used: geeksforgeeks.org"
      ],
      "metadata": {
        "colab": {
          "base_uri": "https://localhost:8080/"
        },
        "id": "U-H33hgplxPg",
        "outputId": "d440294b-53d6-4ea4-ed29-44d5d6d71e4a"
      },
      "execution_count": 8,
      "outputs": [
        {
          "output_type": "stream",
          "name": "stdout",
          "text": [
            "element  count\n",
            "4    3\n",
            "2    2\n",
            "3    2\n",
            "5    2\n",
            "6    1\n",
            "dtype: int64\n"
          ]
        }
      ]
    },
    {
      "cell_type": "markdown",
      "source": [
        "##Write a Python program that will accept the base and height of a triangle and compute the area"
      ],
      "metadata": {
        "id": "IK0FvUoa1MJG"
      }
    },
    {
      "cell_type": "code",
      "source": [
        "base = int(input(\"enter triangle base: \"))\n",
        "height = int(input(\"enter triangle height: \"))\n",
        "area = ((base * height) / 2)\n",
        "print(area)\n",
        "\n",
        "# accepts the base and height of a triangle as integers and computes the area\n",
        "# input1: int\n",
        "# input2: int\n",
        "# output: float"
      ],
      "metadata": {
        "id": "G02dv4rh1MFs",
        "colab": {
          "base_uri": "https://localhost:8080/"
        },
        "outputId": "238c9d98-438c-4c7e-fbf0-93c4ae88e4f4"
      },
      "execution_count": 2,
      "outputs": [
        {
          "output_type": "stream",
          "name": "stdout",
          "text": [
            "enter triangle base: 5\n",
            "enter triangle height: 8\n",
            "20.0\n"
          ]
        }
      ]
    },
    {
      "cell_type": "markdown",
      "source": [
        "##Write a Python program to convert the distance (in feet) to inches, yards, and miles."
      ],
      "metadata": {
        "id": "sOkeycZk1L5-"
      }
    },
    {
      "cell_type": "code",
      "source": [
        "distance_conversion_in_feet = int(input(\"Convert the following distances (in feet): \"))\n",
        "\n",
        "# accepts a distance in feet and converts it to inches, yards, and miles\n",
        "# collaborated with peer to write program\n",
        "\n",
        "feet_to_inches = distance_conversion_in_feet * 12\n",
        "print(feet_to_inches)\n",
        "# 1 foot = 12 inches\n",
        "\n",
        "feet_to_yards = distance_conversion_in_feet * 0.333333\n",
        "print(feet_to_yards)\n",
        "# 1 foot = 0.333333 yards\n",
        "\n",
        "feet_to_miles = distance_conversion_in_feet * 0.000189394\n",
        "print(feet_to_miles)\n",
        "# 1 foot = 0.000189394 miles"
      ],
      "metadata": {
        "colab": {
          "base_uri": "https://localhost:8080/"
        },
        "id": "AcG7VeN_lwbt",
        "outputId": "56f61f4c-0939-4d3d-c56a-8e57650879a8"
      },
      "execution_count": 11,
      "outputs": [
        {
          "output_type": "stream",
          "name": "stdout",
          "text": [
            "Convert the following distances (in feet): 55\n",
            "660\n",
            "18.333315\n",
            "0.010416670000000001\n"
          ]
        }
      ]
    }
  ]
}