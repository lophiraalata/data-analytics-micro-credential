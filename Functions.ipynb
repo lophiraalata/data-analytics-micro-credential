{
  "nbformat": 4,
  "nbformat_minor": 0,
  "metadata": {
    "colab": {
      "name": "Functions.ipynb",
      "provenance": [],
      "collapsed_sections": [],
      "authorship_tag": "ABX9TyM+t1SHrbwpyJ+4zSc5r3uc",
      "include_colab_link": true
    },
    "kernelspec": {
      "name": "python3",
      "display_name": "Python 3"
    },
    "language_info": {
      "name": "python"
    }
  },
  "cells": [
    {
      "cell_type": "markdown",
      "metadata": {
        "id": "view-in-github",
        "colab_type": "text"
      },
      "source": [
        "<a href=\"https://colab.research.google.com/github/lophiraalata/data-analytics-micro-credential/blob/main/Functions.ipynb\" target=\"_parent\"><img src=\"https://colab.research.google.com/assets/colab-badge.svg\" alt=\"Open In Colab\"/></a>"
      ]
    },
    {
      "cell_type": "markdown",
      "source": [
        "# Intro to Python IV\n",
        "## Functions!"
      ],
      "metadata": {
        "id": "zp2UpcA9XNNu"
      }
    },
    {
      "cell_type": "markdown",
      "source": [
        "### 1) How to define a function"
      ],
      "metadata": {
        "id": "9VZwcSh2XZUf"
      }
    },
    {
      "cell_type": "code",
      "source": [
        "\"\"\"\n",
        "'def' name_of_function():\n",
        "  whatever the funtion is supposed to do.\n",
        "\"\"\""
      ],
      "metadata": {
        "colab": {
          "base_uri": "https://localhost:8080/",
          "height": 35
        },
        "id": "JHyGzLpCXZR1",
        "outputId": "879b1db5-2fa9-41dd-9ed4-add39a258d22"
      },
      "execution_count": 1,
      "outputs": [
        {
          "output_type": "execute_result",
          "data": {
            "text/plain": [
              "\"\\n'def' name_of_function():\\n  whatever the funtion is supposed to do.\\n\""
            ],
            "application/vnd.google.colaboratory.intrinsic+json": {
              "type": "string"
            }
          },
          "metadata": {},
          "execution_count": 1
        }
      ]
    },
    {
      "cell_type": "code",
      "source": [
        "def my_function():\n",
        "  print(\"hey girl\")"
      ],
      "metadata": {
        "id": "BR5oDdk6XZGX"
      },
      "execution_count": 2,
      "outputs": []
    },
    {
      "cell_type": "code",
      "source": [
        "type(my_function)"
      ],
      "metadata": {
        "colab": {
          "base_uri": "https://localhost:8080/"
        },
        "id": "W2sJ_R79XZEA",
        "outputId": "d77c264c-22bd-4a8f-862b-efb7abaf6a8c"
      },
      "execution_count": 3,
      "outputs": [
        {
          "output_type": "execute_result",
          "data": {
            "text/plain": [
              "function"
            ]
          },
          "metadata": {},
          "execution_count": 3
        }
      ]
    },
    {
      "cell_type": "code",
      "source": [
        "my_function\n",
        "\n",
        "# this function has not been run, it is not being executed"
      ],
      "metadata": {
        "colab": {
          "base_uri": "https://localhost:8080/"
        },
        "id": "v0_0I7gPXZB7",
        "outputId": "8c128b42-5951-41d6-b98d-39c82b887a17"
      },
      "execution_count": 5,
      "outputs": [
        {
          "output_type": "execute_result",
          "data": {
            "text/plain": [
              "<function __main__.my_function>"
            ]
          },
          "metadata": {},
          "execution_count": 5
        }
      ]
    },
    {
      "cell_type": "code",
      "source": [
        "my_function()"
      ],
      "metadata": {
        "colab": {
          "base_uri": "https://localhost:8080/"
        },
        "id": "S03ZbP8jXY_X",
        "outputId": "956bffc1-1b53-4ff4-db44-d0d254a6b013"
      },
      "execution_count": 6,
      "outputs": [
        {
          "output_type": "stream",
          "name": "stdout",
          "text": [
            "hey girl\n"
          ]
        }
      ]
    },
    {
      "cell_type": "code",
      "source": [
        "help(my_function)"
      ],
      "metadata": {
        "colab": {
          "base_uri": "https://localhost:8080/"
        },
        "id": "5GVAg8ntZaba",
        "outputId": "ae44d074-3130-4f91-8b8e-b4f17780bfdb"
      },
      "execution_count": 7,
      "outputs": [
        {
          "output_type": "stream",
          "name": "stdout",
          "text": [
            "Help on function my_function in module __main__:\n",
            "\n",
            "my_function()\n",
            "\n"
          ]
        }
      ]
    },
    {
      "cell_type": "code",
      "source": [
        "def my_function():\n",
        "  \"\"\"\n",
        "  Created by: The Kahn\n",
        "  Input: none\n",
        "  Output: hey\n",
        "  \"\"\"\n",
        "  print(\"hey\")"
      ],
      "metadata": {
        "id": "kdy_HedMZdtN"
      },
      "execution_count": 8,
      "outputs": []
    },
    {
      "cell_type": "code",
      "source": [
        "my_function()"
      ],
      "metadata": {
        "colab": {
          "base_uri": "https://localhost:8080/"
        },
        "id": "yKEIZh3uZ6Y2",
        "outputId": "f88291ac-a239-4d51-eb4e-43de874afc21"
      },
      "execution_count": 9,
      "outputs": [
        {
          "output_type": "stream",
          "name": "stdout",
          "text": [
            "hey\n"
          ]
        }
      ]
    },
    {
      "cell_type": "code",
      "source": [
        "help(my_function)"
      ],
      "metadata": {
        "colab": {
          "base_uri": "https://localhost:8080/"
        },
        "id": "A_hYIM3WZ73w",
        "outputId": "bead8ba9-a39e-464d-9843-bb73ed3eb05d"
      },
      "execution_count": 10,
      "outputs": [
        {
          "output_type": "stream",
          "name": "stdout",
          "text": [
            "Help on function my_function in module __main__:\n",
            "\n",
            "my_function()\n",
            "    Created by: The Kahn\n",
            "    Input: none\n",
            "    Output: hey\n",
            "\n"
          ]
        }
      ]
    },
    {
      "cell_type": "code",
      "source": [
        "def greeting(name):\n",
        "  \"\"\"\n",
        "  Created by: isaiah\n",
        "  Input: none\n",
        "  Output: Hello to the user\n",
        "  \"\"\"\n",
        "  print(\"good afternoon \" + name + \"!\")"
      ],
      "metadata": {
        "id": "vRUoIvgaZ9sR"
      },
      "execution_count": 16,
      "outputs": []
    },
    {
      "cell_type": "code",
      "source": [
        "greeting('anthony')"
      ],
      "metadata": {
        "colab": {
          "base_uri": "https://localhost:8080/"
        },
        "id": "iQgGpTB_aqrq",
        "outputId": "b2d65511-e4a1-4a42-e40c-5e52300815b2"
      },
      "execution_count": 17,
      "outputs": [
        {
          "output_type": "stream",
          "name": "stdout",
          "text": [
            "good afternoon anthony!\n"
          ]
        }
      ]
    },
    {
      "cell_type": "code",
      "source": [
        "def greeting(name = 'anthony'):\n",
        "  \"\"\"\n",
        "  Created by: isaiah\n",
        "  Input: none\n",
        "  Output: hello to the user\n",
        "  \"\"\"\n",
        "  print(\"good afternoon \" + name + \"!\")"
      ],
      "metadata": {
        "id": "nzjERwDrarqP"
      },
      "execution_count": 18,
      "outputs": []
    },
    {
      "cell_type": "code",
      "source": [
        "greeting('lophira')"
      ],
      "metadata": {
        "colab": {
          "base_uri": "https://localhost:8080/"
        },
        "id": "UZFm_2SobYUy",
        "outputId": "733dc895-db7e-4514-ba26-218d0b24b67d"
      },
      "execution_count": 20,
      "outputs": [
        {
          "output_type": "stream",
          "name": "stdout",
          "text": [
            "good afternoon lophira!\n"
          ]
        }
      ]
    },
    {
      "cell_type": "code",
      "source": [
        "name = input(\"enter your name: \")\n",
        "greeting(name)"
      ],
      "metadata": {
        "colab": {
          "base_uri": "https://localhost:8080/"
        },
        "id": "dbT1hJ-gbcrQ",
        "outputId": "cf5c805a-a6b5-48ea-a3ee-e090618c4a4b"
      },
      "execution_count": 21,
      "outputs": [
        {
          "output_type": "stream",
          "name": "stdout",
          "text": [
            "enter your name: isaiah\n",
            "good afternoon isaiah!\n"
          ]
        }
      ]
    },
    {
      "cell_type": "code",
      "source": [
        "def add(n1, n2):\n",
        "  return n1 + n2"
      ],
      "metadata": {
        "id": "fKCxEw8fbooP"
      },
      "execution_count": 22,
      "outputs": []
    },
    {
      "cell_type": "code",
      "source": [
        "add(34, 89)"
      ],
      "metadata": {
        "colab": {
          "base_uri": "https://localhost:8080/"
        },
        "id": "XgkGlSsxb2TV",
        "outputId": "495c375d-147b-46d4-f84c-8b12e1735bf1"
      },
      "execution_count": 23,
      "outputs": [
        {
          "output_type": "execute_result",
          "data": {
            "text/plain": [
              "123"
            ]
          },
          "metadata": {},
          "execution_count": 23
        }
      ]
    },
    {
      "cell_type": "code",
      "source": [
        "def even_numbers(n):\n",
        "  \"\"\"\n",
        "  Description: this function prints out even numbers from a given list of numbers\n",
        "  Created by: isaiah\n",
        "  Input: list of numbers\n",
        "  Output: even numbers from given list\n",
        "  \"\"\"\n",
        "  num = []\n",
        "  for i in n:\n",
        "    if i % 2 == 0:\n",
        "      num.append(i)\n",
        "  return(num)"
      ],
      "metadata": {
        "id": "3Z8l90GGb5mf"
      },
      "execution_count": 24,
      "outputs": []
    },
    {
      "cell_type": "code",
      "source": [
        "help(even_numbers)"
      ],
      "metadata": {
        "colab": {
          "base_uri": "https://localhost:8080/"
        },
        "id": "eFmyZyQxcxVc",
        "outputId": "6f8edf5d-6634-43e6-a1b0-23fba920367a"
      },
      "execution_count": 25,
      "outputs": [
        {
          "output_type": "stream",
          "name": "stdout",
          "text": [
            "Help on function even_numbers in module __main__:\n",
            "\n",
            "even_numbers(n)\n",
            "    Description: this function prints out even numbers from a given list of numbers\n",
            "    Created by: isaiah\n",
            "    Input: list of numbers\n",
            "    Output: even numbers from given list\n",
            "\n"
          ]
        }
      ]
    },
    {
      "cell_type": "code",
      "source": [
        "even_numbers([1, 56, 274, 54, 7, 118])"
      ],
      "metadata": {
        "colab": {
          "base_uri": "https://localhost:8080/"
        },
        "id": "ClyuaxRbcz-5",
        "outputId": "e586ceb3-3a83-4158-b86c-1be6c0a6ae82"
      },
      "execution_count": 26,
      "outputs": [
        {
          "output_type": "execute_result",
          "data": {
            "text/plain": [
              "[56, 274, 54, 118]"
            ]
          },
          "metadata": {},
          "execution_count": 26
        }
      ]
    },
    {
      "cell_type": "code",
      "source": [
        "even_numbers ([1, 9, 23, 93, 103, 57])\n",
        "# this function will put an empty list"
      ],
      "metadata": {
        "colab": {
          "base_uri": "https://localhost:8080/"
        },
        "id": "yTpRovQ4dFga",
        "outputId": "45a43738-35dd-45bf-a2b4-195027b5e7df"
      },
      "execution_count": 28,
      "outputs": [
        {
          "output_type": "execute_result",
          "data": {
            "text/plain": [
              "[]"
            ]
          },
          "metadata": {},
          "execution_count": 28
        }
      ]
    },
    {
      "cell_type": "code",
      "source": [
        "def odd_numbers(n):\n",
        "  \"\"\"\n",
        "  Description: this function prints out odd numbers from a given list of numbers\n",
        "  Created by isaiah\n",
        "  Input: list of numbers\n",
        "  Output: even numbers frmo given list\n",
        "  \"\"\"\n",
        "  num = []\n",
        "  for num in n:\n",
        "    if num % 2 != 0:\n",
        "      num.append(i)\n",
        "  return(num)"
      ],
      "metadata": {
        "id": "zOHjdkpldVMq"
      },
      "execution_count": 35,
      "outputs": []
    },
    {
      "cell_type": "code",
      "source": [
        "odd_numbers([])"
      ],
      "metadata": {
        "colab": {
          "base_uri": "https://localhost:8080/",
          "height": 169
        },
        "id": "8nbLWvXud_XE",
        "outputId": "9bb8057c-0575-4dba-fc54-0387f7e4eaed"
      },
      "execution_count": 36,
      "outputs": [
        {
          "output_type": "error",
          "ename": "TypeError",
          "evalue": "ignored",
          "traceback": [
            "\u001b[0;31m---------------------------------------------------------------------------\u001b[0m",
            "\u001b[0;31mTypeError\u001b[0m                                 Traceback (most recent call last)",
            "\u001b[0;32m<ipython-input-36-58a2ef6fa150>\u001b[0m in \u001b[0;36m<module>\u001b[0;34m()\u001b[0m\n\u001b[0;32m----> 1\u001b[0;31m \u001b[0modd_numbers\u001b[0m\u001b[0;34m(\u001b[0m\u001b[0;34m)\u001b[0m\u001b[0;34m\u001b[0m\u001b[0;34m\u001b[0m\u001b[0m\n\u001b[0m",
            "\u001b[0;31mTypeError\u001b[0m: odd_numbers() missing 1 required positional argument: 'n'"
          ]
        }
      ]
    },
    {
      "cell_type": "code",
      "source": [
        ""
      ],
      "metadata": {
        "id": "KhHHF9xBnyyL"
      },
      "execution_count": null,
      "outputs": []
    }
  ]
}