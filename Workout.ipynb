{
  "nbformat": 4,
  "nbformat_minor": 0,
  "metadata": {
    "colab": {
      "name": "Workout.ipynb",
      "provenance": [],
      "collapsed_sections": [],
      "authorship_tag": "ABX9TyOQyzl04IxYSAtyTCDjyDXS",
      "include_colab_link": true
    },
    "kernelspec": {
      "name": "python3",
      "display_name": "Python 3"
    },
    "language_info": {
      "name": "python"
    }
  },
  "cells": [
    {
      "cell_type": "markdown",
      "metadata": {
        "id": "view-in-github",
        "colab_type": "text"
      },
      "source": [
        "<a href=\"https://colab.research.google.com/github/lophiraalata/data-analytics-micro-credential/blob/main/Workout.ipynb\" target=\"_parent\"><img src=\"https://colab.research.google.com/assets/colab-badge.svg\" alt=\"Open In Colab\"/></a>"
      ]
    },
    {
      "cell_type": "markdown",
      "source": [
        "# Python Practice Problems"
      ],
      "metadata": {
        "id": "hmcH90CynLJ0"
      }
    },
    {
      "cell_type": "markdown",
      "source": [
        "### Display numbers divisible by 5 from a list"
      ],
      "metadata": {
        "id": "vR0XoQAjnRZT"
      }
    },
    {
      "cell_type": "code",
      "source": [
        "num_list = [1, 5, 27, 53, 92, 100, 125, 57, 50]"
      ],
      "metadata": {
        "id": "AbqwGCmbnRW9"
      },
      "execution_count": 15,
      "outputs": []
    },
    {
      "cell_type": "code",
      "source": [
        "def special_numbers(num_list):\n",
        "  \"\"\"\n",
        "  Description: this function prints out numbers divisible by five from a given list of numbers\n",
        "  Created by: isaiah\n",
        "  Input: list of numbers\n",
        "  Output: Numbers that are divisible by 5\n",
        "  \"\"\"\n",
        "  num = []\n",
        "  for i in num_list:\n",
        "    if i % 5 == 0:\n",
        "      num.append(i)\n",
        "    return(num)"
      ],
      "metadata": {
        "id": "0qkMlZaZqGhA"
      },
      "execution_count": 29,
      "outputs": []
    },
    {
      "cell_type": "code",
      "source": [
        "special_numbers([])"
      ],
      "metadata": {
        "id": "JtlNpPqTnRSi"
      },
      "execution_count": 17,
      "outputs": []
    },
    {
      "cell_type": "markdown",
      "source": [
        "### Check if the first and last number of a list is the same"
      ],
      "metadata": {
        "id": "_mU8cmqJnRQP"
      }
    },
    {
      "cell_type": "code",
      "source": [
        "num_list = [10, 20, 33, 46, 55]\n",
        "\n",
        "def FirstLastEqual(num_list):\n",
        "  \"\"\"\n",
        "  Description: this function tells whether it is true or false that the first and last number of a list is the same\n",
        "  Created by: jordan, isaiah, jaden, and ahnaf\n",
        "  Input: list of numbers\n",
        "  Output: string stating if the first and last numbers in a list are equal\n",
        "  \"\"\"\n",
        "\n",
        "num_list = [2, 6, 3, 8, 5, 32]\n",
        "if num_list[len(num_list)-1] == num_list[0]:\n",
        "  print(\"the first and last number are equal!\")\n",
        "else:\n",
        "  print(\"the first and last number are not equal!\")\n"
      ],
      "metadata": {
        "colab": {
          "base_uri": "https://localhost:8080/"
        },
        "id": "JS1k5FDYrT8j",
        "outputId": "289705fd-4bf7-45fb-fc23-b8d9cc283746"
      },
      "execution_count": 23,
      "outputs": [
        {
          "output_type": "stream",
          "name": "stdout",
          "text": [
            "the first and last number are not equal!\n"
          ]
        }
      ]
    },
    {
      "cell_type": "code",
      "source": [
        "def first_last_same(numberlist):\n",
        "  print(\"given list:\", (numberlist)\n",
        "\n",
        "  first_num = numberlist[0]\n",
        "  last_num = numberlist[-1]\n",
        "\n",
        "  if first_num == last_num:\n",
        "    return True\n",
        "  else:\n",
        "    return False"
      ],
      "metadata": {
        "colab": {
          "base_uri": "https://localhost:8080/",
          "height": 133
        },
        "id": "zXL6GqtJwCtC",
        "outputId": "c40aa14b-43a8-434d-cea2-63f28b227aca"
      },
      "execution_count": 28,
      "outputs": [
        {
          "output_type": "error",
          "ename": "SyntaxError",
          "evalue": "ignored",
          "traceback": [
            "\u001b[0;36m  File \u001b[0;32m\"<ipython-input-28-5b32b03bf7f5>\"\u001b[0;36m, line \u001b[0;32m4\u001b[0m\n\u001b[0;31m    first_num = numberlist[0]\u001b[0m\n\u001b[0m            ^\u001b[0m\n\u001b[0;31mSyntaxError\u001b[0m\u001b[0;31m:\u001b[0m invalid syntax\n"
          ]
        }
      ]
    },
    {
      "cell_type": "code",
      "source": [
        "numbers_x = [10, 20, 30, 40, 10]\n",
        "print(\"result is \", first_last_same(numbers_x))\n"
      ],
      "metadata": {
        "id": "cXus5xPnwJNR"
      },
      "execution_count": null,
      "outputs": []
    },
    {
      "cell_type": "code",
      "source": [
        "mumbers_y = []"
      ],
      "metadata": {
        "id": "oYIxXOdmxJyd"
      },
      "execution_count": null,
      "outputs": []
    },
    {
      "cell_type": "markdown",
      "source": [
        "### Display the first and last colors from a given list"
      ],
      "metadata": {
        "id": "-0fQDp_vwr0P"
      }
    },
    {
      "cell_type": "code",
      "source": [
        "colorlist = [\"red\", \"green\", \"blue\", \"orange\", \"yellow\", \"black\"]\n",
        "print(\"%s %s\"%(colorlist[0], colorlist[-1]))\n"
      ],
      "metadata": {
        "colab": {
          "base_uri": "https://localhost:8080/"
        },
        "id": "l8xdPfmxwzLR",
        "outputId": "6eabd8c5-f5c2-4ad7-f0fa-9bbf86787b2c"
      },
      "execution_count": 41,
      "outputs": [
        {
          "output_type": "stream",
          "name": "stdout",
          "text": [
            "red black\n"
          ]
        }
      ]
    },
    {
      "cell_type": "markdown",
      "source": [
        "### Input an integer (n) and computes the value n + nn + nnn"
      ],
      "metadata": {
        "id": "4jiTu9h00LPs"
      }
    },
    {
      "cell_type": "code",
      "source": [
        "a = int(input(\"input an integer : \"))\n",
        "n1 = int(\"%s\" % a)\n",
        "n2 = int(\"%s%s\" % (a, a))\n",
        "n3 = int)\"&s%s%s\" % (a, a, a))\n",
        "print ()"
      ],
      "metadata": {
        "id": "T3-OacZm0LNY"
      },
      "execution_count": 42,
      "outputs": []
    },
    {
      "cell_type": "code",
      "source": [
        "2 + 2*2 + 2*2*2"
      ],
      "metadata": {
        "colab": {
          "base_uri": "https://localhost:8080/"
        },
        "id": "5LleTkTw0LGX",
        "outputId": "9ca18724-99a7-471d-f0ff-9f603b073e76"
      },
      "execution_count": 46,
      "outputs": [
        {
          "output_type": "execute_result",
          "data": {
            "text/plain": [
              "14"
            ]
          },
          "metadata": {},
          "execution_count": 46
        }
      ]
    },
    {
      "cell_type": "code",
      "source": [
        "3 + 3*3 + 3*3*3"
      ],
      "metadata": {
        "colab": {
          "base_uri": "https://localhost:8080/"
        },
        "id": "KIMO9LmA4ORO",
        "outputId": "75985848-51ba-4616-a49e-cdde70a914f4"
      },
      "execution_count": 47,
      "outputs": [
        {
          "output_type": "execute_result",
          "data": {
            "text/plain": [
              "39"
            ]
          },
          "metadata": {},
          "execution_count": 47
        }
      ]
    },
    {
      "cell_type": "code",
      "source": [
        ""
      ],
      "metadata": {
        "id": "fiuZHe284Rcr"
      },
      "execution_count": null,
      "outputs": []
    }
  ]
}